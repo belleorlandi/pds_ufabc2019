{
  "nbformat": 4,
  "nbformat_minor": 0,
  "metadata": {
    "colab": {
      "name": "pds_exC1.ipynb",
      "version": "0.3.2",
      "provenance": [],
      "collapsed_sections": [],
      "toc_visible": true,
      "include_colab_link": true
    },
    "kernelspec": {
      "name": "python3",
      "display_name": "Python 3"
    }
  },
  "cells": [
    {
      "cell_type": "markdown",
      "metadata": {
        "id": "view-in-github",
        "colab_type": "text"
      },
      "source": [
        "<a href=\"https://colab.research.google.com/github/belleorlandi/pds_ufabc2019/blob/master/pds_exC1.ipynb\" target=\"_parent\"><img src=\"https://colab.research.google.com/assets/colab-badge.svg\" alt=\"Open In Colab\"/></a>"
      ]
    },
    {
      "cell_type": "markdown",
      "metadata": {
        "id": "mE6eNyRnefJO",
        "colab_type": "text"
      },
      "source": [
        "\n",
        "\n",
        "---\n",
        "\n",
        "\n",
        "# Processamento Digital de Sinais \n",
        "## *Exercício Computacional 1*\n",
        "\n",
        "\n",
        "---\n",
        "\n",
        "\n"
      ]
    },
    {
      "cell_type": "markdown",
      "metadata": {
        "id": "DSds7nb_sRiZ",
        "colab_type": "text"
      },
      "source": [
        "**Nome:** Isabelle Orlandi\n",
        "\n",
        "**RA:** 11056613\n"
      ]
    },
    {
      "cell_type": "markdown",
      "metadata": {
        "id": "Di06VDKgrDiB",
        "colab_type": "text"
      },
      "source": [
        "\n",
        "\n",
        "---\n",
        "\n",
        "\n",
        "## Objetivos"
      ]
    },
    {
      "cell_type": "markdown",
      "metadata": {
        "id": "nwfGc3XGsEIK",
        "colab_type": "text"
      },
      "source": [
        "Este Exercício Computacional tem como objetivo introduzir o uso da ferramenta Jupyter Notebook para elaboração de códigos e relatórios relacionados ao processamento digital de sinais. Tem ainda como objetivo específico, fixar e consolidar conhecimentos sobre sinais digitais e funções de convolução no domínio discreto obtidos na disciplina de Procesamento Digital de Sinais.        \n",
        "\n"
      ]
    },
    {
      "cell_type": "markdown",
      "metadata": {
        "id": "aOl_MNAYoXET",
        "colab_type": "text"
      },
      "source": [
        "\n",
        "\n",
        "---\n",
        "\n",
        "\n",
        "## Exercícios"
      ]
    },
    {
      "cell_type": "markdown",
      "metadata": {
        "id": "2Plg6tzgs3me",
        "colab_type": "text"
      },
      "source": [
        "### Exercício 1 "
      ]
    },
    {
      "cell_type": "markdown",
      "metadata": {
        "id": "NVNw37p6tcsr",
        "colab_type": "text"
      },
      "source": [
        "Implemente um algoritmo comentado que seja capaz de calcular a convolução discreta de dois sinais quaisquer $x(n)$ e $h(n)$, de duração finita, utilizando uma das três diferentes formas de se calcular a convolução, descritas nos itens abaixo. Considere o sinal $x(n)$ como sendo um vetor contendo $N_x$ linhas e uma coluna, o sinal $h(n)$ como sendo um vetor contendo $N_h$ linhas e uma coluna e o sinal $y(n)$, contendo o resultado da convoluçao, como sendo um vetor de $N_y = N_x +N_h -1$ linhas e uma coluna. \n",
        "\n",
        "\n",
        "**(a)** Um dos métodos consiste em calcular a convolução através da expressão $y(n) = \\sum_{k=-\\infty}^{\\infty} x(k)h(n-k)$, onde cada amostra dos sinal $y(n)$ é calculada individualmente.\n",
        "\n",
        "\n",
        "\n",
        "\n",
        "**(b)** O outro método consiste em calcular o vetor $y(n)$ como uma combinação linear de $N_x$ vetores $h(n-k)$ contendo o sinal $h(n)$ atrasado de $k$ amostras, ponderados por $x(k)$. Observe que o vetor $h(n-k)$, para todos os valores de $k$, é um vetor com $N_y = N_x +N_h -1$ linhas e uma coluna. \n",
        "\n",
        "\n",
        "**(c)** O último método é baseado na multiplicação do vetor $x(n)$ pela matriz de convolução $H$, de dimensão $N_y = N_x +N_h -1$ linhas e $N_x$ colunas. Cada coluna da matriz $H$ é dado pelo vetor $h(n-k)$ contendo o sinal $h(n)$ atrasado de $k$ amostras. \n",
        "\n",
        "\n",
        "\n",
        "\n",
        "\n"
      ]
    },
    {
      "cell_type": "markdown",
      "metadata": {
        "id": "gnO_RASbcWWq",
        "colab_type": "text"
      },
      "source": [
        "\n",
        "> Para a resolução do exercício 1, onde é proposta a implementação de uma função que realize a convolução discreta de dois sinais, optou-se pelo método descrito no item (a), onde o sinal resultado da convolução é calculado individualmente para cada fator $n$ a partir da expressão $y(n) = \\sum_{k=-\\infty}^{\\infty} x(k)h(n-k)$. A escolha deste método ocorreu apenas pela sua simplicidade de implementação e código sucinto. \n",
        "> As proxímas seções apresentam a implementação da função $conv()$ e o código está comentado para melhor entendimento da metodologia utilizada. \n",
        "\n",
        "\n",
        "\n"
      ]
    },
    {
      "cell_type": "code",
      "metadata": {
        "id": "dYoDYzcLsmNK",
        "colab_type": "code",
        "cellView": "both",
        "colab": {}
      },
      "source": [
        "# Importação das bibliotecas necessárias\n",
        "\n",
        "import numpy as np                         #Biblioteca para operações matemáticas\n",
        "import matplotlib.pyplot as plt            #Biblioteca para plotar gráficos"
      ],
      "execution_count": 0,
      "outputs": []
    },
    {
      "cell_type": "code",
      "metadata": {
        "id": "PDtms8e1UAhW",
        "colab_type": "code",
        "colab": {}
      },
      "source": [
        "# Definicação da função convolução discreta.\n",
        "\n",
        "def conv(a,b):\n",
        "    \n",
        "    # Identifica o tamanho do vetor A.\n",
        "    Na = np.size(a)  \n",
        "    \n",
        "    # Identifica o tamanho do vetor B.\n",
        "    Nb = np.size(b)  \n",
        "    \n",
        "    # Calcula o tamanho necessário de acordo com a fórmula Ny = Na+Nb-1 \n",
        "    # e inicia o vetor resultado com zeros.\n",
        "    y = np.zeros(Na + Nb - 1) \n",
        "    \n",
        "    # Estrutura em loop que percorre todos os elementos do vetor resultado.\n",
        "    # Cada elemento do vetor resultado é calculado pela fórmula da convolução. \n",
        "    for m in np.arange(Na):\n",
        "        for n in np.arange(Nb):\n",
        "            \n",
        "            # Fórmula da convolução discreta\n",
        "            y[m+n] = y[m+n] + (a[m] * b[n])\n",
        "           \n",
        "    # Retorna o vetor resultado como saída da função conv(a,b)    \n",
        "    return y"
      ],
      "execution_count": 0,
      "outputs": []
    },
    {
      "cell_type": "markdown",
      "metadata": {
        "id": "pohzr5NYs8pj",
        "colab_type": "text"
      },
      "source": [
        "### Exercício 2"
      ]
    },
    {
      "cell_type": "markdown",
      "metadata": {
        "id": "wjbyOESjBgtV",
        "colab_type": "text"
      },
      "source": [
        "Realize os cálculos e plote os resultados da convolução obtida para os seguintes sinais:"
      ]
    },
    {
      "cell_type": "markdown",
      "metadata": {
        "id": "t8nwDwAzRdDz",
        "colab_type": "text"
      },
      "source": [
        "#### **(a)** Impulso Unitário\n",
        "$h(n)$ é um vetor contendo, em cada elemento, um algarismo do seu RA e $x(n)$ é um vetor contendo 100 amostras de um impulso unitário ($n=0$ até $n=99$);"
      ]
    },
    {
      "cell_type": "code",
      "metadata": {
        "id": "Wqhy6xhdRlYP",
        "colab_type": "code",
        "colab": {}
      },
      "source": [
        "# Inicializa um vetor contendo os algarismos do RA 11056613:\n",
        "h = np.array([1,1,0,5,6,6,1,3])\n",
        "\n",
        "\n",
        "#Plota o vetor h construido\n",
        "plt.xlabel('n')\n",
        "plt.ylabel('h[n]')\n",
        "plt.title('Vetor RA')\n",
        "plt.stem(h)"
      ],
      "execution_count": 0,
      "outputs": []
    },
    {
      "cell_type": "code",
      "metadata": {
        "id": "c-IDtIPURqPB",
        "colab_type": "code",
        "colab": {}
      },
      "source": [
        "# Definição da função impulso unitário:\n",
        "def impulsoU(x): \n",
        "    \n",
        "    #Inicializa o vetor degrau unitário com a quantidade de amostras igual ao tamanho de x\n",
        "    d = np.zeros(len(x)) \n",
        "    \n",
        "    # Loop que atribui valor u(n) = 1 para n = 0\n",
        "    for i in range(0,len(x)): \n",
        "        if x[i] == 0: \n",
        "            d[i] = 1. \n",
        "    return d\n",
        "\n",
        "# Determina o intervalo n utilizado (0 < n < 99)\n",
        "n = np.arange(0, 99)\n",
        "\n",
        "# Cria o vetor degrau unitário para 0 < n < 99.\n",
        "x = impulsoU(n)\n",
        "\n",
        "#Plota o vetor x degrau unitário construido\n",
        "plt.xlabel('n')\n",
        "plt.ylabel('x[n]')\n",
        "plt.title('Impulso Unitário x(n)')\n",
        "plt.stem(x)"
      ],
      "execution_count": 0,
      "outputs": []
    },
    {
      "cell_type": "code",
      "metadata": {
        "id": "QSyBaXJ1SPpL",
        "colab_type": "code",
        "colab": {}
      },
      "source": [
        "# Calcula a convolução do sinal de impulso unitário x(n) com o sinal h(n)\n",
        "# utilizando a função conv() implementada no exercício 1.\n",
        "y = conv(x,h)\n",
        "\n",
        "#Plota o resultado obtido\n",
        "plt.xlabel('n')\n",
        "plt.ylabel('y[n]')\n",
        "plt.title('Convolução Discreta')\n",
        "plt.stem(y)"
      ],
      "execution_count": 0,
      "outputs": []
    },
    {
      "cell_type": "markdown",
      "metadata": {
        "id": "ReQ4qkzYScQz",
        "colab_type": "text"
      },
      "source": [
        "Para verificar que a função convolução discreta foi corretamente  implementada, foi utilizada a função $np.convolve()$ da biblioteca Numpy: "
      ]
    },
    {
      "cell_type": "code",
      "metadata": {
        "id": "qYL09gNTSfNV",
        "colab_type": "code",
        "colab": {}
      },
      "source": [
        "# Convolução utilizando a biblioteca Numpy:\n",
        "y_verificado = np.convolve(x,h)\n",
        "\n",
        "#Plota o resultado obtido\n",
        "plt.xlabel('n')\n",
        "plt.ylabel('y[n]')\n",
        "plt.title('Convolução Discreta Verificada')\n",
        "plt.stem(y_verificado)\n"
      ],
      "execution_count": 0,
      "outputs": []
    },
    {
      "cell_type": "markdown",
      "metadata": {
        "id": "IAPj0ZFOQNaE",
        "colab_type": "text"
      },
      "source": [
        "#### **(b)** Degrau Unitário\n",
        "$h(n)$ é um vetor contendo, em cada elemento, um algarismo do seu RA e $x(n)$ é um vetor contendo 100 amostras de um degrau unitário ($n=0$ até $n=99$);"
      ]
    },
    {
      "cell_type": "code",
      "metadata": {
        "id": "l7gJTNfmB_Hc",
        "colab_type": "code",
        "colab": {}
      },
      "source": [
        "# Inicializa um vetor contendo os algarismos do RA 11056613:\n",
        "h = np.array([1,1,0,5,6,6,1,3])\n",
        "\n",
        "\n",
        "#Plota o vetor h construido\n",
        "plt.xlabel('n')\n",
        "plt.ylabel('h[n]')\n",
        "plt.title('Vetor RA')\n",
        "plt.stem(h)"
      ],
      "execution_count": 0,
      "outputs": []
    },
    {
      "cell_type": "code",
      "metadata": {
        "id": "x_08h9fGEDpy",
        "colab_type": "code",
        "colab": {}
      },
      "source": [
        "# Definição da função degrau unitário:\n",
        "def degrauU(x): \n",
        "    \n",
        "    #Inicializa o vetor degrau unitário com a quantidade de amostras igual ao tamanho de x\n",
        "    u = np.zeros(len(x)) \n",
        "    \n",
        "    # Loop que atribui valor u(n) = 1 para n > 0\n",
        "    for i in range(0,len(x)): \n",
        "        if x[i] >= 0: \n",
        "            u[i] = 1. \n",
        "    return u\n",
        "\n",
        "# Determina o intervalo n utilizado (0 < n < 99)\n",
        "n = np.arange(0, 99)\n",
        "\n",
        "# Cria o vetor degrau unitário para 0 < n < 99.\n",
        "x = degrauU(n)\n",
        "\n",
        "#Plota o vetor x degrau unitário construido\n",
        "plt.xlabel('n')\n",
        "plt.ylabel('x[n]')\n",
        "plt.title('Degrau Unitário x(n)')\n",
        "plt.stem(x)"
      ],
      "execution_count": 0,
      "outputs": []
    },
    {
      "cell_type": "code",
      "metadata": {
        "id": "OVLPzWmAFOhF",
        "colab_type": "code",
        "colab": {}
      },
      "source": [
        "# Calcula a convolução do sinal de degrau unitário x(n) com o sinal h(n)\n",
        "# utilizando a função conv() implementada no exercício 1.\n",
        "y = conv(x,h)\n",
        "\n",
        "#Plota o resultado obtido\n",
        "plt.xlabel('n')\n",
        "plt.ylabel('y[n]')\n",
        "plt.title('Convolução Discreta')\n",
        "plt.stem(y)"
      ],
      "execution_count": 0,
      "outputs": []
    },
    {
      "cell_type": "markdown",
      "metadata": {
        "id": "QEURE1PWHoAh",
        "colab_type": "text"
      },
      "source": [
        "Novamente, para verificar que a função convolução discreta foi corretamente  implementada, foi utilizada a função $np.convolve()$ da biblioteca Numpy: "
      ]
    },
    {
      "cell_type": "code",
      "metadata": {
        "id": "j5DEYrGuGCzf",
        "colab_type": "code",
        "colab": {}
      },
      "source": [
        "# Convolução utilizando a biblioteca Numpy:\n",
        "y_verificado = np.convolve(x,h)\n",
        "\n",
        "#Plota o resultado obtido\n",
        "plt.xlabel('n')\n",
        "plt.ylabel('y[n]')\n",
        "plt.title('Convolução Discreta Verificada')\n",
        "plt.stem(y_verificado)\n"
      ],
      "execution_count": 0,
      "outputs": []
    },
    {
      "cell_type": "markdown",
      "metadata": {
        "id": "7-lOnH8kS1cf",
        "colab_type": "text"
      },
      "source": [
        "#### **(c)** Sinal Senoidal\n",
        "$h(n)$ é um vetor contendo, em cada elemento, um algarismo do seu RA e $x(n)$ é um vetor contendo 100 amostras de um sinal senoidal dado por $x(n) = cos(0,1\\pi n)+cos(0,9\\pi n)$, para $n=0$ até $n=99$;\n",
        "\n"
      ]
    },
    {
      "cell_type": "code",
      "metadata": {
        "id": "BzOcjYaTTeqH",
        "colab_type": "code",
        "colab": {}
      },
      "source": [
        "# Inicializa um vetor contendo os algarismos do RA 11056613:\n",
        "h = np.array([1,1,0,5,6,6,1,3])\n",
        "\n",
        "\n",
        "#Plota o vetor h construido\n",
        "plt.xlabel('n')\n",
        "plt.ylabel('h[n]')\n",
        "plt.title('Vetor RA')\n",
        "plt.stem(h)"
      ],
      "execution_count": 0,
      "outputs": []
    },
    {
      "cell_type": "code",
      "metadata": {
        "id": "9VotkWizTiYq",
        "colab_type": "code",
        "colab": {}
      },
      "source": [
        "# Definição do sinal senoidal:\n",
        "def sin(x): \n",
        "    \n",
        "    #Inicializa o sinal senoidal com a quantidade de amostras igual ao tamanho de x\n",
        "    sin = np.zeros(len(x)) \n",
        "    \n",
        "    # Loop que atribui valor senoidal ao vetor\n",
        "    for i in range(0,len(x)):\n",
        "        sin[i] = np.cos(0.1*np.pi*i) + np.cos(0.0*np.pi*i)\n",
        "        \n",
        "    return sin\n",
        "\n",
        "# Determina o intervalo n utilizado (0 < n < 99)\n",
        "n = np.arange(0, 99)\n",
        "\n",
        "# Cria o vetor degrau unitário para 0 < n < 99.\n",
        "x = sin(n)\n",
        "\n",
        "#Plota o vetor x degrau unitário construido\n",
        "plt.xlabel('n')\n",
        "plt.ylabel('x[n]')\n",
        "plt.title('Degrau Unitário x(n)')\n",
        "plt.stem(x)"
      ],
      "execution_count": 0,
      "outputs": []
    },
    {
      "cell_type": "code",
      "metadata": {
        "id": "tyqmfOoDUXVx",
        "colab_type": "code",
        "colab": {}
      },
      "source": [
        "# Calcula a convolução do sinal senoidal x(n) com o sinal h(n)\n",
        "# utilizando a função conv() implementada no exercício 1.\n",
        "y = conv(x,h)\n",
        "\n",
        "#Plota o resultado obtido\n",
        "plt.xlabel('n')\n",
        "plt.ylabel('y[n]')\n",
        "plt.title('Convolução Discreta')\n",
        "plt.stem(y)"
      ],
      "execution_count": 0,
      "outputs": []
    },
    {
      "cell_type": "markdown",
      "metadata": {
        "id": "zWL-Jt8nUjfx",
        "colab_type": "text"
      },
      "source": [
        "Novamente, para verificar que a função convolução discreta foi corretamente  implementada, foi utilizada a função $np.convolve()$ da biblioteca Numpy: "
      ]
    },
    {
      "cell_type": "code",
      "metadata": {
        "id": "ggrV70tIUk13",
        "colab_type": "code",
        "colab": {}
      },
      "source": [
        "# Convolução utilizando a biblioteca Numpy:\n",
        "y_verificado = np.convolve(x,h)\n",
        "\n",
        "#Plota o resultado obtido\n",
        "plt.xlabel('n')\n",
        "plt.ylabel('y[n]')\n",
        "plt.title('Convolução Discreta Verificada')\n",
        "plt.stem(y_verificado)"
      ],
      "execution_count": 0,
      "outputs": []
    },
    {
      "cell_type": "markdown",
      "metadata": {
        "id": "DWqaWwNvogDu",
        "colab_type": "text"
      },
      "source": [
        "\n",
        "\n",
        "---\n",
        "\n",
        "\n",
        "## Conclusão"
      ]
    },
    {
      "cell_type": "markdown",
      "metadata": {
        "id": "WDlKI8eksZhw",
        "colab_type": "text"
      },
      "source": [
        ""
      ]
    },
    {
      "cell_type": "markdown",
      "metadata": {
        "id": "XjlCLEANU6Ra",
        "colab_type": "text"
      },
      "source": [
        "---\n",
        "\n",
        "\n",
        "## Bibliografia"
      ]
    }
  ]
}
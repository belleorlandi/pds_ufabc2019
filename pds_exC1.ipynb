{
  "nbformat": 4,
  "nbformat_minor": 0,
  "metadata": {
    "colab": {
      "name": "pds_exC1.ipynb",
      "version": "0.3.2",
      "provenance": [],
      "collapsed_sections": [],
      "toc_visible": true,
      "include_colab_link": true
    },
    "kernelspec": {
      "name": "python3",
      "display_name": "Python 3"
    }
  },
  "cells": [
    {
      "cell_type": "markdown",
      "metadata": {
        "id": "view-in-github",
        "colab_type": "text"
      },
      "source": [
        "<a href=\"https://colab.research.google.com/github/belleorlandi/pds_ufabc2019/blob/master/pds_exC1.ipynb\" target=\"_parent\"><img src=\"https://colab.research.google.com/assets/colab-badge.svg\" alt=\"Open In Colab\"/></a>"
      ]
    },
    {
      "cell_type": "markdown",
      "metadata": {
        "id": "mE6eNyRnefJO",
        "colab_type": "text"
      },
      "source": [
        "\n",
        "\n",
        "---\n",
        "\n",
        "\n",
        "# Processamento Digital de Sinais \n",
        "## *Exercício Computacional 1*\n",
        "\n",
        "\n",
        "---\n",
        "\n",
        "\n"
      ]
    },
    {
      "cell_type": "markdown",
      "metadata": {
        "id": "DSds7nb_sRiZ",
        "colab_type": "text"
      },
      "source": [
        "**Nome:** Isabelle Orlandi\n",
        "\n",
        "**RA:** 11056613\n"
      ]
    },
    {
      "cell_type": "markdown",
      "metadata": {
        "id": "Di06VDKgrDiB",
        "colab_type": "text"
      },
      "source": [
        "\n",
        "\n",
        "---\n",
        "\n",
        "\n",
        "## Objetivos"
      ]
    },
    {
      "cell_type": "markdown",
      "metadata": {
        "id": "nwfGc3XGsEIK",
        "colab_type": "text"
      },
      "source": [
        "Este Exercício Computacional tem como objetivo introduzir o uso da ferramenta Jupyter Notebook para elaboração de códigos e relatórios relacionados ao processamento digital de sinais. Tem ainda como objetivo específico, fixar e consolidar conhecimentos sobre sinais digitais e funções de convolução no domínio discreto obtidos na disciplina de Procesamento Digital de Sinais.        \n",
        "\n"
      ]
    },
    {
      "cell_type": "markdown",
      "metadata": {
        "id": "aOl_MNAYoXET",
        "colab_type": "text"
      },
      "source": [
        "\n",
        "\n",
        "---\n",
        "\n",
        "\n",
        "## Exercícios"
      ]
    },
    {
      "cell_type": "markdown",
      "metadata": {
        "id": "2Plg6tzgs3me",
        "colab_type": "text"
      },
      "source": [
        "### Exercício 1 "
      ]
    },
    {
      "cell_type": "markdown",
      "metadata": {
        "id": "NVNw37p6tcsr",
        "colab_type": "text"
      },
      "source": [
        "Implemente um algoritmo comentado que seja capaz de calcular a convolução discreta de dois sinais quaisquer $x(n)$ e $h(n)$, de duração finita, utilizando uma das três diferentes formas de se calcular a convolução, descritas nos itens abaixo. Considere o sinal $x(n)$ como sendo um vetor contendo $N_x$ linhas e uma coluna, o sinal $h(n)$ como sendo um vetor contendo $N_h$ linhas e uma coluna e o sinal $y(n)$, contendo o resultado da convoluçao, como sendo um vetor de $N_y = N_x +N_h -1$ linhas e uma coluna. \n",
        "\n",
        "\n",
        "**(a)** Um dos métodos consiste em calcular a convolução através da expressão $y(n) = \\sum_{k=-\\infty}^{\\infty} x(k)h(n-k)$, onde cada amostra dos sinal $y(n)$ é calculada individualmente.\n",
        "\n",
        "\n",
        "\n",
        "\n",
        "**(b)** O outro método consiste em calcular o vetor $y(n)$ como uma combinação linear de $N_x$ vetores $h(n-k)$ contendo o sinal $h(n)$ atrasado de $k$ amostras, ponderados por $x(k)$. Observe que o vetor $h(n-k)$, para todos os valores de $k$, é um vetor com $N_y = N_x +N_h -1$ linhas e uma coluna. \n",
        "\n",
        "\n",
        "**(c)** O último método é baseado na multiplicação do vetor $x(n)$ pela matriz de convolução $H$, de dimensão $N_y = N_x +N_h -1$ linhas e $N_x$ colunas. Cada coluna da matriz $H$ é dado pelo vetor $h(n-k)$ contendo o sinal $h(n)$ atrasado de $k$ amostras. \n",
        "\n",
        "\n",
        "\n",
        "\n",
        "\n"
      ]
    },
    {
      "cell_type": "markdown",
      "metadata": {
        "id": "gnO_RASbcWWq",
        "colab_type": "text"
      },
      "source": [
        "\n",
        "> Para a resolução do exercício 1, onde é proposta a implementação de uma função que realize a convolução discreta de dois sinais, optou-se pelo método descrito no item (a), onde o sinal resultado da convolução é calculado individualmente para cada fator $n$ a partir da expressão $y(n) = \\sum_{k=-\\infty}^{\\infty} x(k)h(n-k)$. A escolha deste método ocorreu apenas pela sua simplicidade de implementação e código sucinto. \n",
        "> As proxímas seções apresentam a implementação da função $conv()$ e o código está comentado para melhor entendimento da metodologia utilizada. \n",
        "\n",
        "\n",
        "\n"
      ]
    },
    {
      "cell_type": "code",
      "metadata": {
        "id": "dYoDYzcLsmNK",
        "colab_type": "code",
        "cellView": "both",
        "colab": {}
      },
      "source": [
        "# Importação das bibliotecas necessárias\n",
        "\n",
        "import numpy as np                         #Biblioteca para operações matemáticas\n",
        "import matplotlib.pyplot as plt            #Biblioteca para plotar gráficos"
      ],
      "execution_count": 0,
      "outputs": []
    },
    {
      "cell_type": "code",
      "metadata": {
        "id": "e1UE3ES44zLA",
        "colab_type": "code",
        "colab": {}
      },
      "source": [
        "h = np.array([1,2])\n",
        "h = h.reshape(len(h),1)"
      ],
      "execution_count": 0,
      "outputs": []
    },
    {
      "cell_type": "code",
      "metadata": {
        "id": "PDtms8e1UAhW",
        "colab_type": "code",
        "colab": {}
      },
      "source": [
        "# Definicação da função convolução discreta\n",
        "\n",
        "def conv(a,b):\n",
        "    \n",
        "    a = h.reshape(1,len(a))\n",
        "    B = h.reshape(1,len(b))\n",
        "\n",
        "    \n",
        "    lengthA = np.size(A)\n",
        "    lengthB = np.size(B)\n",
        "    \n",
        "    C = np.zeros(lengthA + lengthB - 1)\n",
        "    \n",
        "    for m in np.arange(lengthA):\n",
        "        for n in np.arange(lengthB):\n",
        "            C[m+n] = C[m+n] + A[m]*B[n]\n",
        "           \n",
        "    return C"
      ],
      "execution_count": 0,
      "outputs": []
    },
    {
      "cell_type": "code",
      "metadata": {
        "id": "CRPsOPc2USNl",
        "colab_type": "code",
        "colab": {}
      },
      "source": [
        "Cv = convolution(x,h)"
      ],
      "execution_count": 0,
      "outputs": []
    },
    {
      "cell_type": "code",
      "metadata": {
        "id": "QLMjH-OkfksX",
        "colab_type": "code",
        "outputId": "634fc3f1-8731-4008-9125-8278d1ae2c05",
        "colab": {
          "base_uri": "https://localhost:8080/",
          "height": 314
        }
      },
      "source": [
        "plt.xlabel('n')\n",
        "plt.ylabel('y[n]')\n",
        "plt.title('Discrete Convolution')\n",
        "plt.stem(Cv)\n"
      ],
      "execution_count": 12,
      "outputs": [
        {
          "output_type": "execute_result",
          "data": {
            "text/plain": [
              "<StemContainer object of 3 artists>"
            ]
          },
          "metadata": {
            "tags": []
          },
          "execution_count": 12
        },
        {
          "output_type": "display_data",
          "data": {
            "image/png": "[encoded data removed]",
            "text/plain": [
              "<Figure size 432x288 with 1 Axes>"
            ]
          },
          "metadata": {
            "tags": []
          }
        }
      ]
    },
    {
      "cell_type": "markdown",
      "metadata": {
        "id": "pohzr5NYs8pj",
        "colab_type": "text"
      },
      "source": [
        "### Exercício 2"
      ]
    },
    {
      "cell_type": "markdown",
      "metadata": {
        "id": "DWqaWwNvogDu",
        "colab_type": "text"
      },
      "source": [
        "\n",
        "\n",
        "---\n",
        "\n",
        "\n",
        "## Resultados"
      ]
    },
    {
      "cell_type": "markdown",
      "metadata": {
        "id": "WDlKI8eksZhw",
        "colab_type": "text"
      },
      "source": [
        "E foram felizes para sempre."
      ]
    }
  ]
}
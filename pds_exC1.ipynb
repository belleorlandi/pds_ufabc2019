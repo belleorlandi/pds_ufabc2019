{
  "nbformat": 4,
  "nbformat_minor": 0,
  "metadata": {
    "colab": {
      "name": "pds_exC1.ipynb",
      "version": "0.3.2",
      "provenance": [],
      "collapsed_sections": [],
      "toc_visible": true,
      "include_colab_link": true
    },
    "kernelspec": {
      "name": "python3",
      "display_name": "Python 3"
    }
  },
  "cells": [
    {
      "cell_type": "markdown",
      "metadata": {
        "id": "view-in-github",
        "colab_type": "text"
      },
      "source": [
        "<a href=\"https://colab.research.google.com/github/belleorlandi/pds_ufabc2019/blob/master/pds_exC1.ipynb\" target=\"_parent\"><img src=\"https://colab.research.google.com/assets/colab-badge.svg\" alt=\"Open In Colab\"/></a>"
      ]
    },
    {
      "cell_type": "markdown",
      "metadata": {
        "id": "mE6eNyRnefJO",
        "colab_type": "text"
      },
      "source": [
        "\n",
        "\n",
        "---\n",
        "\n",
        "\n",
        "# Processamento Digital de Sinais \n",
        "## *Exercício Computacional 1*\n",
        "\n",
        "\n",
        "---\n",
        "\n",
        "\n"
      ]
    },
    {
      "cell_type": "markdown",
      "metadata": {
        "id": "DSds7nb_sRiZ",
        "colab_type": "text"
      },
      "source": [
        "**Nome:** Isabelle Orlandi\n",
        "\n",
        "**RA:** 11056613\n"
      ]
    },
    {
      "cell_type": "markdown",
      "metadata": {
        "id": "Di06VDKgrDiB",
        "colab_type": "text"
      },
      "source": [
        "\n",
        "\n",
        "---\n",
        "\n",
        "\n",
        "## Objetivos"
      ]
    },
    {
      "cell_type": "markdown",
      "metadata": {
        "id": "nwfGc3XGsEIK",
        "colab_type": "text"
      },
      "source": [
        "Este Exercício Computacional tem como objetivo introduzir o uso da ferramenta Jupyter Notebook para elaboração de códigos e relatórios relacionados ao processamento digital de sinais. Tem ainda como objetivo específico, fixar e consolidar conhecimentos sobre sinais digitais e funções de convolução no domínio discreto obtidos na disciplina de Procesamento Digital de Sinais.        \n",
        "\n"
      ]
    },
    {
      "cell_type": "markdown",
      "metadata": {
        "id": "aOl_MNAYoXET",
        "colab_type": "text"
      },
      "source": [
        "\n",
        "\n",
        "---\n",
        "\n",
        "\n",
        "## Exercícios"
      ]
    },
    {
      "cell_type": "markdown",
      "metadata": {
        "id": "2Plg6tzgs3me",
        "colab_type": "text"
      },
      "source": [
        "### Exercício 1 "
      ]
    },
    {
      "cell_type": "markdown",
      "metadata": {
        "id": "NVNw37p6tcsr",
        "colab_type": "text"
      },
      "source": [
        "Implemente um algoritmo comentado que seja capaz de calcular a convolução discreta de dois sinais quaisquer $x(n)$ e $h(n)$, de duração finita, utilizando uma das três diferentes formas de se calcular a convolução, descritas nos itens abaixo. Considere o sinal $x(n)$ como sendo um vetor contendo $N_x$ linhas e uma coluna, o sinal $h(n)$ como sendo um vetor contendo $N_h$ linhas e uma coluna e o sinal $y(n)$, contendo o resultado da convoluçao, como sendo um vetor de $N_y = N_x +N_h -1$ linhas e uma coluna. \n",
        "\n",
        "\n",
        "**(a)** Um dos métodos consiste em calcular a convolução através da expressão $y(n) = \\sum_{k=-\\infty}^{\\infty} x(k)h(n-k)$, onde cada amostra dos sinal $y(n)$ é calculada individualmente.\n",
        "\n",
        "\n",
        "\n",
        "\n",
        "**(b)** O outro método consiste em calcular o vetor $y(n)$ como uma combinação linear de $N_x$ vetores $h(n-k)$ contendo o sinal $h(n)$ atrasado de $k$ amostras, ponderados por $x(k)$. Observe que o vetor $h(n-k)$, para todos os valores de $k$, é um vetor com $N_y = N_x +N_h -1$ linhas e uma coluna. \n",
        "\n",
        "\n",
        "**(c)** O último método é baseado na multiplicação do vetor $x(n)$ pela matriz de convolução $H$, de dimensão $N_y = N_x +N_h -1$ linhas e $N_x$ colunas. Cada coluna da matriz $H$ é dado pelo vetor $h(n-k)$ contendo o sinal $h(n)$ atrasado de $k$ amostras. \n",
        "\n",
        "\n",
        "\n",
        "\n",
        "\n"
      ]
    },
    {
      "cell_type": "markdown",
      "metadata": {
        "id": "gnO_RASbcWWq",
        "colab_type": "text"
      },
      "source": [
        "\n",
        "> Para a resolução do exercício 1, onde é proposta a implementação de uma função que realize a convolução discreta de dois sinais, optou-se pelo método descrito no item (a), onde o sinal resultado da convolução é calculado individualmente para cada fator $n$ a partir da expressão $y(n) = \\sum_{k=-\\infty}^{\\infty} x(k)h(n-k)$. A escolha deste método ocorreu apenas pela sua simplicidade de implementação e código sucinto. \n",
        "> As proxímas seções apresentam a implementação da função $conv()$ e o código está comentado para melhor entendimento da metodologia utilizada. \n",
        "\n",
        "\n",
        "\n"
      ]
    },
    {
      "cell_type": "code",
      "metadata": {
        "id": "dYoDYzcLsmNK",
        "colab_type": "code",
        "cellView": "both",
        "colab": {}
      },
      "source": [
        "# Importação das bibliotecas necessárias\n",
        "\n",
        "import numpy as np                         #Biblioteca para operações matemáticas\n",
        "import matplotlib.pyplot as plt            #Biblioteca para plotar gráficos"
      ],
      "execution_count": 0,
      "outputs": []
    },
    {
      "cell_type": "code",
      "metadata": {
        "id": "PDtms8e1UAhW",
        "colab_type": "code",
        "colab": {}
      },
      "source": [
        "# Definicação da função convolução discreta.\n",
        "\n",
        "def conv(a,b):\n",
        "    \n",
        "    # Identifica o tamanho do vetor A.\n",
        "    Na = np.size(a)  \n",
        "    \n",
        "    # Identifica o tamanho do vetor B.\n",
        "    Nb = np.size(b)  \n",
        "    \n",
        "    # Calcula o tamanho necessário de acordo com a fórmula Ny = Na+Nb-1 \n",
        "    # e inicia o vetor resultado com zeros.\n",
        "    y = np.zeros(Na + Nb - 1) \n",
        "    \n",
        "    # Estrutura em loop que percorre todos os elementos do vetor resultado.\n",
        "    # Cada elemento do vetor resultado é calculado pela fórmula da convolução. \n",
        "    for m in np.arange(Na):\n",
        "        for n in np.arange(Nb):\n",
        "            \n",
        "            # Fórmula de somatória da convolução discreta\n",
        "            y[m+n] = y[m+n] + (a[m] * b[n])\n",
        "           \n",
        "    # Retorna o vetor resultado como saída da função conv(a,b)    \n",
        "    return y"
      ],
      "execution_count": 0,
      "outputs": []
    },
    {
      "cell_type": "markdown",
      "metadata": {
        "id": "pohzr5NYs8pj",
        "colab_type": "text"
      },
      "source": [
        "### Exercício 2"
      ]
    },
    {
      "cell_type": "markdown",
      "metadata": {
        "id": "wjbyOESjBgtV",
        "colab_type": "text"
      },
      "source": [
        "Realize os cálculos e plote os resultados da convolução obtida para os seguintes sinais:"
      ]
    },
    {
      "cell_type": "markdown",
      "metadata": {
        "id": "t8nwDwAzRdDz",
        "colab_type": "text"
      },
      "source": [
        "#### **(a)** Impulso Unitário\n",
        "$h(n)$ é um vetor contendo, em cada elemento, um algarismo do seu RA e $x(n)$ é um vetor contendo 100 amostras de um impulso unitário ($n=0$ até $n=99$);"
      ]
    },
    {
      "cell_type": "code",
      "metadata": {
        "id": "Wqhy6xhdRlYP",
        "colab_type": "code",
        "colab": {
          "base_uri": "https://localhost:8080/",
          "height": 313
        },
        "outputId": "a80394de-091d-474c-fe0e-438587c486fa"
      },
      "source": [
        "# Inicializa um vetor contendo os algarismos do RA 11056613:\n",
        "h = np.array([1,1,0,5,6,6,1,3])\n",
        "\n",
        "\n",
        "#Plota o vetor h construido\n",
        "plt.xlabel('n')\n",
        "plt.ylabel('h[n]')\n",
        "plt.title('Vetor RA')\n",
        "plt.stem(h)"
      ],
      "execution_count": 155,
      "outputs": [
        {
          "output_type": "execute_result",
          "data": {
            "text/plain": [
              "<StemContainer object of 3 artists>"
            ]
          },
          "metadata": {
            "tags": []
          },
          "execution_count": 155
        },
        {
          "output_type": "display_data",
          "data": {
            "image/png": "[encoded data removed]",
            "text/plain": [
              "<Figure size 432x288 with 1 Axes>"
            ]
          },
          "metadata": {
            "tags": []
          }
        }
      ]
    },
    {
      "cell_type": "code",
      "metadata": {
        "id": "c-IDtIPURqPB",
        "colab_type": "code",
        "colab": {
          "base_uri": "https://localhost:8080/",
          "height": 313
        },
        "outputId": "92219d13-f404-4e05-b1d6-28000450b922"
      },
      "source": [
        "# Definição da função impulso unitário:\n",
        "def impulsoU(x): \n",
        "    \n",
        "    #Inicializa o vetor degrau unitário com a quantidade de amostras igual ao tamanho de x\n",
        "    d = np.zeros(len(x)) \n",
        "    \n",
        "    # Loop que atribui valor u(n) = 1 para n = 0\n",
        "    for i in range(0,len(x)): \n",
        "        if x[i] == 0: \n",
        "            d[i] = 1. \n",
        "    return d\n",
        "\n",
        "# Determina o intervalo n utilizado (0 < n < 99)\n",
        "n = np.arange(0, 99)\n",
        "\n",
        "# Cria o vetor degrau unitário para 0 < n < 99.\n",
        "x = impulsoU(n)\n",
        "\n",
        "#Plota o vetor x degrau unitário construido\n",
        "plt.xlabel('n')\n",
        "plt.ylabel('x[n]')\n",
        "plt.title('Impulso Unitário x(n)')\n",
        "plt.stem(x)"
      ],
      "execution_count": 156,
      "outputs": [
        {
          "output_type": "execute_result",
          "data": {
            "text/plain": [
              "<StemContainer object of 3 artists>"
            ]
          },
          "metadata": {
            "tags": []
          },
          "execution_count": 156
        },
        {
          "output_type": "display_data",
          "data": {
            "image/png": "[encoded data removed]",
            "text/plain": [
              "<Figure size 432x288 with 1 Axes>"
            ]
          },
          "metadata": {
            "tags": []
          }
        }
      ]
    },
    {
      "cell_type": "code",
      "metadata": {
        "id": "QSyBaXJ1SPpL",
        "colab_type": "code",
        "colab": {
          "base_uri": "https://localhost:8080/",
          "height": 313
        },
        "outputId": "835a14af-bb25-4059-8bcc-2d18561d7408"
      },
      "source": [
        "# Calcula a convolução do sinal de impulso unitário x(n) com o sinal h(n)\n",
        "# utilizando a função conv() implementada no exercício 1.\n",
        "y = conv(x,h)\n",
        "\n",
        "#Plota o resultado obtido\n",
        "plt.xlabel('n')\n",
        "plt.ylabel('y[n]')\n",
        "plt.title('Convolução Discreta')\n",
        "plt.stem(y)"
      ],
      "execution_count": 157,
      "outputs": [
        {
          "output_type": "execute_result",
          "data": {
            "text/plain": [
              "<StemContainer object of 3 artists>"
            ]
          },
          "metadata": {
            "tags": []
          },
          "execution_count": 157
        },
        {
          "output_type": "display_data",
          "data": {
            "image/png": "[encoded data removed]",
            "text/plain": [
              "<Figure size 432x288 with 1 Axes>"
            ]
          },
          "metadata": {
            "tags": []
          }
        }
      ]
    },
    {
      "cell_type": "markdown",
      "metadata": {
        "id": "ReQ4qkzYScQz",
        "colab_type": "text"
      },
      "source": [
        "Para verificar que a função convolução discreta foi corretamente  implementada, foi utilizada a função $np.convolve()$ da biblioteca Numpy: "
      ]
    },
    {
      "cell_type": "code",
      "metadata": {
        "id": "qYL09gNTSfNV",
        "colab_type": "code",
        "colab": {
          "base_uri": "https://localhost:8080/",
          "height": 313
        },
        "outputId": "e7b96a86-8053-4982-e4f9-408edd5e8411"
      },
      "source": [
        "# Convolução utilizando a biblioteca Numpy:\n",
        "y_verificado = np.convolve(x,h)\n",
        "\n",
        "#Plota o resultado obtido\n",
        "plt.xlabel('n')\n",
        "plt.ylabel('y[n]')\n",
        "plt.title('Convolução Discreta Verificada')\n",
        "plt.stem(y_verificado)\n"
      ],
      "execution_count": 158,
      "outputs": [
        {
          "output_type": "execute_result",
          "data": {
            "text/plain": [
              "<StemContainer object of 3 artists>"
            ]
          },
          "metadata": {
            "tags": []
          },
          "execution_count": 158
        },
        {
          "output_type": "display_data",
          "data": {
            "image/png": "[encoded data removed]",
            "text/plain": [
              "<Figure size 432x288 with 1 Axes>"
            ]
          },
          "metadata": {
            "tags": []
          }
        }
      ]
    },
    {
      "cell_type": "markdown",
      "metadata": {
        "id": "IAPj0ZFOQNaE",
        "colab_type": "text"
      },
      "source": [
        "#### **(b)** Degrau Unitário\n",
        "$h(n)$ é um vetor contendo, em cada elemento, um algarismo do seu RA e $x(n)$ é um vetor contendo 100 amostras de um degrau unitário ($n=0$ até $n=99$);"
      ]
    },
    {
      "cell_type": "code",
      "metadata": {
        "id": "l7gJTNfmB_Hc",
        "colab_type": "code",
        "colab": {
          "base_uri": "https://localhost:8080/",
          "height": 313
        },
        "outputId": "03736a28-65cd-4e8e-b159-db71b1ac98e5"
      },
      "source": [
        "# Inicializa um vetor contendo os algarismos do RA 11056613:\n",
        "h = np.array([1,1,0,5,6,6,1,3])\n",
        "\n",
        "\n",
        "#Plota o vetor h construido\n",
        "plt.xlabel('n')\n",
        "plt.ylabel('h[n]')\n",
        "plt.title('Vetor RA')\n",
        "plt.stem(h)"
      ],
      "execution_count": 159,
      "outputs": [
        {
          "output_type": "execute_result",
          "data": {
            "text/plain": [
              "<StemContainer object of 3 artists>"
            ]
          },
          "metadata": {
            "tags": []
          },
          "execution_count": 159
        },
        {
          "output_type": "display_data",
          "data": {
            "image/png": "[encoded data removed]",
            "text/plain": [
              "<Figure size 432x288 with 1 Axes>"
            ]
          },
          "metadata": {
            "tags": []
          }
        }
      ]
    },
    {
      "cell_type": "code",
      "metadata": {
        "id": "x_08h9fGEDpy",
        "colab_type": "code",
        "colab": {
          "base_uri": "https://localhost:8080/",
          "height": 313
        },
        "outputId": "12aab5dc-7c57-4758-c67e-caa9878f64c8"
      },
      "source": [
        "# Definição da função degrau unitário:\n",
        "def degrauU(x): \n",
        "    \n",
        "    #Inicializa o vetor degrau unitário com a quantidade de amostras igual ao tamanho de x\n",
        "    u = np.zeros(len(x)) \n",
        "    \n",
        "    # Loop que atribui valor u(n) = 1 para n > 0\n",
        "    for i in range(0,len(x)): \n",
        "        if x[i] >= 0: \n",
        "            u[i] = 1. \n",
        "    return u\n",
        "\n",
        "# Determina o intervalo n utilizado (0 < n < 99)\n",
        "n = np.arange(0, 99)\n",
        "\n",
        "# Cria o vetor degrau unitário para 0 < n < 99.\n",
        "x = degrauU(n)\n",
        "\n",
        "#Plota o vetor x degrau unitário construido\n",
        "plt.xlabel('n')\n",
        "plt.ylabel('x[n]')\n",
        "plt.title('Degrau Unitário x(n)')\n",
        "plt.stem(x)"
      ],
      "execution_count": 160,
      "outputs": [
        {
          "output_type": "execute_result",
          "data": {
            "text/plain": [
              "<StemContainer object of 3 artists>"
            ]
          },
          "metadata": {
            "tags": []
          },
          "execution_count": 160
        },
        {
          "output_type": "display_data",
          "data": {
            "image/png": "[encoded data removed]",
            "text/plain": [
              "<Figure size 432x288 with 1 Axes>"
            ]
          },
          "metadata": {
            "tags": []
          }
        }
      ]
    },
    {
      "cell_type": "code",
      "metadata": {
        "id": "OVLPzWmAFOhF",
        "colab_type": "code",
        "colab": {
          "base_uri": "https://localhost:8080/",
          "height": 313
        },
        "outputId": "e981bdb4-5451-42ab-b387-1599bc38a2de"
      },
      "source": [
        "# Calcula a convolução do sinal de degrau unitário x(n) com o sinal h(n)\n",
        "# utilizando a função conv() implementada no exercício 1.\n",
        "y = conv(x,h)\n",
        "\n",
        "#Plota o resultado obtido\n",
        "plt.xlabel('n')\n",
        "plt.ylabel('y[n]')\n",
        "plt.title('Convolução Discreta')\n",
        "plt.stem(y)"
      ],
      "execution_count": 161,
      "outputs": [
        {
          "output_type": "execute_result",
          "data": {
            "text/plain": [
              "<StemContainer object of 3 artists>"
            ]
          },
          "metadata": {
            "tags": []
          },
          "execution_count": 161
        },
        {
          "output_type": "display_data",
          "data": {
            "image/png": "[encoded data removed]",
            "text/plain": [
              "<Figure size 432x288 with 1 Axes>"
            ]
          },
          "metadata": {
            "tags": []
          }
        }
      ]
    },
    {
      "cell_type": "markdown",
      "metadata": {
        "id": "QEURE1PWHoAh",
        "colab_type": "text"
      },
      "source": [
        "Novamente, para verificar que a função convolução discreta foi corretamente  implementada, foi utilizada a função $np.convolve()$ da biblioteca Numpy: "
      ]
    },
    {
      "cell_type": "code",
      "metadata": {
        "id": "j5DEYrGuGCzf",
        "colab_type": "code",
        "colab": {
          "base_uri": "https://localhost:8080/",
          "height": 313
        },
        "outputId": "ad0df1a8-32cd-4e2d-9b8e-b4ea21bebb99"
      },
      "source": [
        "# Convolução utilizando a biblioteca Numpy:\n",
        "y_verificado = np.convolve(x,h)\n",
        "\n",
        "#Plota o resultado obtido\n",
        "plt.xlabel('n')\n",
        "plt.ylabel('y[n]')\n",
        "plt.title('Convolução Discreta Verificada')\n",
        "plt.stem(y_verificado)\n"
      ],
      "execution_count": 162,
      "outputs": [
        {
          "output_type": "execute_result",
          "data": {
            "text/plain": [
              "<StemContainer object of 3 artists>"
            ]
          },
          "metadata": {
            "tags": []
          },
          "execution_count": 162
        },
        {
          "output_type": "display_data",
          "data": {
            "image/png": "[encoded data removed]",
            "text/plain": [
              "<Figure size 432x288 with 1 Axes>"
            ]
          },
          "metadata": {
            "tags": []
          }
        }
      ]
    },
    {
      "cell_type": "markdown",
      "metadata": {
        "id": "7-lOnH8kS1cf",
        "colab_type": "text"
      },
      "source": [
        "#### **(c)** Sinal Senoidal\n",
        "$h(n)$ é um vetor contendo, em cada elemento, um algarismo do seu RA e $x(n)$ é um vetor contendo 100 amostras de um sinal senoidal dado por $x(n) = cos(0,1\\pi n)+cos(0,9\\pi n)$, para $n=0$ até $n=99$;\n",
        "\n"
      ]
    },
    {
      "cell_type": "code",
      "metadata": {
        "id": "BzOcjYaTTeqH",
        "colab_type": "code",
        "colab": {
          "base_uri": "https://localhost:8080/",
          "height": 313
        },
        "outputId": "fd97ba92-2bfc-417a-ba5c-42353abaf8e8"
      },
      "source": [
        "# Inicializa um vetor contendo os algarismos do RA 11056613:\n",
        "h = np.array([1,1,0,5,6,6,1,3])\n",
        "\n",
        "\n",
        "#Plota o vetor h construido\n",
        "plt.xlabel('n')\n",
        "plt.ylabel('h[n]')\n",
        "plt.title('Vetor RA')\n",
        "plt.stem(h)"
      ],
      "execution_count": 163,
      "outputs": [
        {
          "output_type": "execute_result",
          "data": {
            "text/plain": [
              "<StemContainer object of 3 artists>"
            ]
          },
          "metadata": {
            "tags": []
          },
          "execution_count": 163
        },
        {
          "output_type": "display_data",
          "data": {
            "image/png": "[encoded data removed]",
            "text/plain": [
              "<Figure size 432x288 with 1 Axes>"
            ]
          },
          "metadata": {
            "tags": []
          }
        }
      ]
    },
    {
      "cell_type": "code",
      "metadata": {
        "id": "9VotkWizTiYq",
        "colab_type": "code",
        "colab": {
          "base_uri": "https://localhost:8080/",
          "height": 313
        },
        "outputId": "53c5536c-a060-4fec-90fb-48b189033bff"
      },
      "source": [
        "# Definição do sinal senoidal:\n",
        "def sin(x): \n",
        "    \n",
        "    #Inicializa o sinal senoidal com a quantidade de amostras igual ao tamanho de x\n",
        "    sin = np.zeros(len(x)) \n",
        "    \n",
        "    # Loop que atribui valor senoidal ao vetor\n",
        "    for i in range(0,len(x)):\n",
        "        sin[i] = np.cos(0.1*np.pi*i) + np.cos(0.0*np.pi*i)\n",
        "        \n",
        "    return sin\n",
        "\n",
        "# Determina o intervalo n utilizado (0 < n < 99)\n",
        "n = np.arange(0, 99)\n",
        "\n",
        "# Cria o vetor sinal senoidal para 0 < n < 99.\n",
        "x = sin(n)\n",
        "\n",
        "#Plota o vetor x sinal senoidal construido\n",
        "plt.xlabel('n')\n",
        "plt.ylabel('x[n]')\n",
        "plt.title('Sinal Senoidal x(n)')\n",
        "plt.stem(x)"
      ],
      "execution_count": 164,
      "outputs": [
        {
          "output_type": "execute_result",
          "data": {
            "text/plain": [
              "<StemContainer object of 3 artists>"
            ]
          },
          "metadata": {
            "tags": []
          },
          "execution_count": 164
        },
        {
          "output_type": "display_data",
          "data": {
            "image/png": "[encoded data removed]",
            "text/plain": [
              "<Figure size 432x288 with 1 Axes>"
            ]
          },
          "metadata": {
            "tags": []
          }
        }
      ]
    },
    {
      "cell_type": "code",
      "metadata": {
        "id": "tyqmfOoDUXVx",
        "colab_type": "code",
        "colab": {
          "base_uri": "https://localhost:8080/",
          "height": 313
        },
        "outputId": "ed94f1cb-fb8f-42a4-df2f-0ded05c362bc"
      },
      "source": [
        "# Calcula a convolução do sinal senoidal x(n) com o sinal h(n)\n",
        "# utilizando a função conv() implementada no exercício 1.\n",
        "y = conv(x,h)\n",
        "\n",
        "#Plota o resultado obtido\n",
        "plt.xlabel('n')\n",
        "plt.ylabel('y[n]')\n",
        "plt.title('Convolução Discreta')\n",
        "plt.stem(y)"
      ],
      "execution_count": 165,
      "outputs": [
        {
          "output_type": "execute_result",
          "data": {
            "text/plain": [
              "<StemContainer object of 3 artists>"
            ]
          },
          "metadata": {
            "tags": []
          },
          "execution_count": 165
        },
        {
          "output_type": "display_data",
          "data": {
            "image/png": "[encoded data removed]",
            "text/plain": [
              "<Figure size 432x288 with 1 Axes>"
            ]
          },
          "metadata": {
            "tags": []
          }
        }
      ]
    },
    {
      "cell_type": "markdown",
      "metadata": {
        "id": "zWL-Jt8nUjfx",
        "colab_type": "text"
      },
      "source": [
        "Novamente, para verificar que a função convolução discreta foi corretamente  implementada, foi utilizada a função $np.convolve()$ da biblioteca Numpy: "
      ]
    },
    {
      "cell_type": "code",
      "metadata": {
        "id": "ggrV70tIUk13",
        "colab_type": "code",
        "colab": {
          "base_uri": "https://localhost:8080/",
          "height": 313
        },
        "outputId": "554897a4-84a7-4f6b-ee9f-602a2d0831b1"
      },
      "source": [
        "# Convolução utilizando a biblioteca Numpy:\n",
        "y_verificado = np.convolve(x,h)\n",
        "\n",
        "#Plota o resultado obtido\n",
        "plt.xlabel('n')\n",
        "plt.ylabel('y[n]')\n",
        "plt.title('Convolução Discreta Verificada')\n",
        "plt.stem(y_verificado)"
      ],
      "execution_count": 166,
      "outputs": [
        {
          "output_type": "execute_result",
          "data": {
            "text/plain": [
              "<StemContainer object of 3 artists>"
            ]
          },
          "metadata": {
            "tags": []
          },
          "execution_count": 166
        },
        {
          "output_type": "display_data",
          "data": {
            "image/png": "[encoded data removed]",
            "text/plain": [
              "<Figure size 432x288 with 1 Axes>"
            ]
          },
          "metadata": {
            "tags": []
          }
        }
      ]
    },
    {
      "cell_type": "markdown",
      "metadata": {
        "id": "DWqaWwNvogDu",
        "colab_type": "text"
      },
      "source": [
        "\n",
        "\n",
        "---\n",
        "\n",
        "\n",
        "## Conclusão"
      ]
    },
    {
      "cell_type": "markdown",
      "metadata": {
        "id": "WDlKI8eksZhw",
        "colab_type": "text"
      },
      "source": [
        "Finalizados os exercícios, cabem algumas observações com relação às soluções propostas e a metodologia utilizada. Como primeiro ponto a ser destacado, a implementação da função convolução descrita no Exercício 1 foi realizada considerando entradas de vetores de 1 linha e N colunas, o contrário do proposto pela descrição do exercício que sugere entradas de N linhas e 1 coluna. O motivo da inversão se deu para que os mesmos vetores utilizados na entrada da função implementada $conv()$ pudessem ser entrada da função de verificação $np.convolve()$, sem haver necessidade de transpor o vetor. Em um primeiro momento, o desenvolvimento foi iniciado utilizando os vetores na forma de N linhas e 1 coluna, porém a função $np.convolve()$ apresentava erros de sintaxe quando vetores neste formato eram utilizados como suas entradas. Logo, para padronizar a obtenção dos resultados, optou-se por utilizar vetores de 1 linha e N colunas. Vale resaltar que essa alteração, para os fins propostos, não causou diferença alguma no resultado da convolução.\n",
        "\n",
        "Partindo para a análise do Exercício 2, onde a implementação da função de convolução discreta é posta para atuar com valores reais, os resultados obtidos para os três sinais utilizados foi condizente com a verificação realizada que utilizou uma função da biblioteca Numpy. O desenvolvimento dos itens (a), (b) e (c) do exercício 2 permitem verificar as diferanças obtidas no resultado quanto ao sinal de entrada utilizado, sendo ele um impulso unitário, um degrau unitário ou um sinal senoidal, quando submetidos à convolução com um sinal comum.\n",
        "\n",
        "Para finalizar análise da execução deste Exercício Computacional, cabe a observação da importância no incentivo e apoio à utilização de ferramentas computacionais no ensino de Engenharia. Ter contato e implementar soluções computacionais relacionadas aos conteúdos ministrados em aula promove fixação e uma proximidade maior com a realidade da pesquisa e indústria, e quando este passo é dado baseado em ferramentas colaborativas e integradas (como JupyterNotebook, GoogleDrive e GitHub) a proposta de um trabalho estrapola positivamente os limites do conteúdo ministrado (no caso a convolução discreta) e passa a desenvolver no estudante diversas outras habilidades.  \n",
        "\n"
      ]
    },
    {
      "cell_type": "markdown",
      "metadata": {
        "id": "XjlCLEANU6Ra",
        "colab_type": "text"
      },
      "source": [
        "---\n",
        "\n",
        "\n",
        "## Bibliografia"
      ]
    },
    {
      "cell_type": "markdown",
      "metadata": {
        "id": "F_kRa639ebKI",
        "colab_type": "text"
      },
      "source": [
        "[Numpy Reference](https://docs.scipy.org/doc/numpy/reference/)\n",
        "\n",
        "[Pythonize - Tutorial Básico de Numpy](http://pythonize.org/tutorial-basico-numpy.html)"
      ]
    }
  ]
}